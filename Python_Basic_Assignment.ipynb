{
  "nbformat": 4,
  "nbformat_minor": 0,
  "metadata": {
    "colab": {
      "provenance": []
    },
    "kernelspec": {
      "name": "python3",
      "display_name": "Python 3"
    },
    "language_info": {
      "name": "python"
    }
  },
  "cells": [
    {
      "cell_type": "markdown",
      "source": [
        "# **Python Basic Questions**"
      ],
      "metadata": {
        "id": "MGx_nj81hUFm"
      }
    },
    {
      "cell_type": "markdown",
      "source": [
        "**Q1. What is Python, and why is it popular?**\n",
        "\n",
        "--> Python is a high-level, interpreted programming language known for its simplicity and readability. Created by Guido van Rossum and first released in 1991, Python emphasizes code readability with its use of significant indentation. This makes it an excellent choice for beginners and experienced developers alike.\n",
        "\n",
        "Features of Python :-\n",
        "1. Ease of Learning and Use\n",
        "2. Versatility\n",
        "3. Interpreted language\n",
        "4. Object-oriented programming language\n",
        "5. Free and open-source\n"
      ],
      "metadata": {
        "id": "nWoxFMmmzCw1"
      }
    },
    {
      "cell_type": "markdown",
      "source": [
        "**Q2. What is an interpreter in Python?**\n",
        "\n",
        "--> An interpreter in Python is a program that executes Python code line by line. Unlike a compiler, which translates the entire code into machine language before execution, an interpreter translates and runs the code simultaneously. This allows for interactive coding and debugging, making Python a great choice for beginners and rapid development."
      ],
      "metadata": {
        "id": "aOF_z2uy1XpQ"
      }
    },
    {
      "cell_type": "markdown",
      "source": [
        "**Q3. What are pre-defined keywords in Python?**\n",
        "\n",
        "--> Pre-defined keywords in Python are reserved words that have special meanings and purposes within the language. These keywords are part of the Python syntax and cannot be used as identifiers (such as variable names, function names, etc.). They are essential for writing Python code and help define the structure and flow of the program. Like :- False, None, True, and, as etc."
      ],
      "metadata": {
        "id": "PbvmzK4r1oS8"
      }
    },
    {
      "cell_type": "markdown",
      "source": [
        "**Q4. Can keywords be used as variable names?**\n",
        "\n",
        "--> No, keywords in Python cannot be used as variable names. Keywords are reserved words that have special meanings and purposes within the language, and using them as variable names would cause syntax errors."
      ],
      "metadata": {
        "id": "I4TfLTza2uAa"
      }
    },
    {
      "cell_type": "markdown",
      "source": [
        "**Q5. What is mutability in Python?**\n",
        "\n",
        "--> Mutability in Python refers to the ability of an object to be changed after it has been created. In other words, if an object is mutable, you can modify its content without changing its identity. Conversely, if an object is immutable, its content cannot be altered once it is created."
      ],
      "metadata": {
        "id": "AYfODApa257S"
      }
    },
    {
      "cell_type": "markdown",
      "source": [
        "**Q6. Why are lists mutable, but tuples are immutable?**\n",
        "\n",
        "--> The difference in mutability between lists and tuples in Python is rooted in their design and intended use cases.\n",
        "\n",
        "*Lists*\n",
        "\n",
        "Mutable: Lists are designed to be flexible and dynamic. You can modify their contents by adding, removing, or changing elements. This makes lists ideal for situations where you need a collection of items that can change over time.\n",
        "\n",
        "*Tuples*\n",
        "\n",
        "Immutable: Tuples, on the other hand, are designed to be fixed and unchangeable. Once a tuple is created, its contents cannot be altered. This immutability makes tuples useful for representing fixed collections of items, such as coordinates, or for use as keys in dictionaries where immutability is required."
      ],
      "metadata": {
        "id": "6WZzJPOO3Q9I"
      }
    },
    {
      "cell_type": "markdown",
      "source": [
        "**Q7. What is the difference between “==” and “is” operators in Python?**\n",
        "\n",
        "--> **== Operator**\n",
        "\n",
        "Purpose: Checks for value equality.\n",
        "\n",
        "Usage: Compares the values of two objects to see if they are equal.\n",
        "\n",
        "**is Operator**\n",
        "\n",
        "Purpose: Checks for identity equality.\n",
        "\n",
        "Usage: Compares the memory addresses of two objects to see if they refer to the same object.\n"
      ],
      "metadata": {
        "id": "RBChPamt4KWq"
      }
    },
    {
      "cell_type": "markdown",
      "source": [
        "**Q8. What are logical operators in Python?**\n",
        "\n",
        "--> Logical operators in Python are used to combine conditional statements. They are essential for controlling the flow of your program based on multiple conditions.\n",
        "\n",
        "Types of Logical Operators :-\n",
        "1. and\n",
        "2. or\n",
        "3. not"
      ],
      "metadata": {
        "id": "SgC6PICy4_Lr"
      }
    },
    {
      "cell_type": "markdown",
      "source": [
        "**Q9. What is types casting in Python?**\n",
        "\n",
        "--> Type casting in Python is the process of converting one data type to another. This is useful when you need to perform operations that require a specific data type.\n",
        "\n",
        "There are two main types of type casting :-\n",
        "\n",
        "1. Implicit Type Casting: Python automatically converts one data type to another without any user intervention.\n",
        "2. Explicit Type Casting: You manually convert one data type to another using built-in functions.\n"
      ],
      "metadata": {
        "id": "_ytcJiuOdVVk"
      }
    },
    {
      "cell_type": "markdown",
      "source": [
        "**Q10. What is the difference between implicit and explicit type casting?**\n",
        "\n",
        "--> Implicit Type Casting\n",
        "\n",
        "Also known as type coercion, it is automatically handled by Python without the need for programmer intervention.Occurs when Python safely converts a smaller data type to a larger data type to prevent data loss or errors.\n",
        "\n",
        "Explicit Type Casting\n",
        "\n",
        "Also known as type conversion, it requires the programmer to manually convert a data type to another using built-in functions.Used when you need precise control over how data types are converted."
      ],
      "metadata": {
        "id": "43Jl4dPAd-xR"
      }
    },
    {
      "cell_type": "markdown",
      "source": [
        "**Q11.  What is the purpose of conditional statements in Python?**\n",
        "\n",
        "--> Conditional statements in Python are used to execute certain blocks of code based on whether a condition is true or false. They allow your program to make decisions and perform different actions depending on the input or situation.\n",
        "\n",
        "Main purposes:-\n",
        "\n",
        "1. Control Flow\n",
        "2. Decision Making\n",
        "3. Handling Multiple Conditions\n",
        "4. Error Handling"
      ],
      "metadata": {
        "id": "Ag51iVS8e8Vv"
      }
    },
    {
      "cell_type": "markdown",
      "source": [
        "**Q12. How does the elif statement work?**\n",
        "\n",
        "--> The elif statement in Python stands for \"else if\" and is used to check multiple conditions in sequence. It allows you to handle more than two possible outcomes in your conditional logic. How it works:\n",
        "\n",
        "Initial Condition: The if statement checks the first condition.\n",
        "\n",
        "Additional Conditions: If the if condition is false, the elif statement checks the next condition.\n",
        "\n",
        "Else Condition: If all if and elif conditions are false, the else statement (if present) executes its block of code."
      ],
      "metadata": {
        "id": "W8cghCdFfjCZ"
      }
    },
    {
      "cell_type": "markdown",
      "source": [
        "**Q13. What is the difference between for and while loops?**\n",
        "\n",
        "--> The main difference between for and while loops in Python lies in how they control the flow of the loop and the conditions they use to terminate the loop:\n",
        "\n",
        "For Loop:\n",
        "\n",
        "Iterates Over a Sequence: A for loop is used to iterate over a sequence (like a list, tuple, dictionary, set, or string) or other iterable objects.\n",
        "\n",
        "Fixed Number of Iterations: The number of iterations is determined by the length of the sequence.\n",
        "\n",
        "While Loop:\n",
        "\n",
        "Condition-Based: A while loop continues to execute as long as a specified condition is True.\n",
        "\n",
        "Indeterminate Number of Iterations: The number of iterations is not fixed and depends on the condition."
      ],
      "metadata": {
        "id": "U3eZp5Qvf2JF"
      }
    },
    {
      "cell_type": "markdown",
      "source": [
        "**Q14. Describe a scenario where a while loop is more suitable than a for loop?**\n",
        "\n",
        "--> A while loop is more suitable than a for loop when you don't know in advance how many iterations are needed, and the loop should continue until a certain condition is met. Here's a scenario to illustrate this:\n",
        "\n",
        "Scenario: User Authentication\n",
        "\n",
        "Imagine you are writing a program that prompts a user to enter their password. The program should keep asking for the password until the user enters the correct one. In this case, you don't know how many attempts the user will need, so a while loop is more appropriate.\n",
        "\n",
        "Code given below :"
      ],
      "metadata": {
        "id": "aKIWctwbgZ_x"
      }
    },
    {
      "cell_type": "code",
      "execution_count": 2,
      "metadata": {
        "id": "Kq_jd2MVy-fN",
        "colab": {
          "base_uri": "https://localhost:8080/"
        },
        "outputId": "a839b47a-4b8c-4db3-ec20-423ff52e87d7"
      },
      "outputs": [
        {
          "output_type": "stream",
          "name": "stdout",
          "text": [
            "Enter your password: securepassword\n",
            "Access granted!\n"
          ]
        }
      ],
      "source": [
        "correct_password = \"securepassword\"\n",
        "user_password = \"\"\n",
        "\n",
        "while user_password != correct_password:\n",
        "    user_password = input(\"Enter your password: \")\n",
        "\n",
        "print(\"Access granted!\")"
      ]
    },
    {
      "cell_type": "markdown",
      "source": [
        "In the above code example:\n",
        "\n",
        "The while loop continues to prompt the user for their password until the entered password matches the correct one.\n",
        "\n",
        "The number of iterations is not fixed and depends on when the user enters the correct password."
      ],
      "metadata": {
        "id": "KJF2WdKzhGM9"
      }
    },
    {
      "cell_type": "markdown",
      "source": [
        "# **Practical Questions**"
      ],
      "metadata": {
        "id": "-f1gUnnmhcsv"
      }
    },
    {
      "cell_type": "code",
      "source": [
        "# Q1. Write a Python program to print \"Hello, World!\n",
        "\n",
        "print ('Hello World')"
      ],
      "metadata": {
        "colab": {
          "base_uri": "https://localhost:8080/"
        },
        "id": "HR8JDUx2g7m5",
        "outputId": "f9cde7e9-1368-44ad-dd07-006134748423"
      },
      "execution_count": 5,
      "outputs": [
        {
          "output_type": "stream",
          "name": "stdout",
          "text": [
            "Hello World\n"
          ]
        }
      ]
    },
    {
      "cell_type": "code",
      "source": [
        "# Q2. Write a Python program that displays your name and age.\n",
        "\n",
        "name = input(\"Enter your name: \")\n",
        "age = input(\"Enter your age: \")\n",
        "print(\"Name:\", name)\n",
        "print(\"Age:\", age)"
      ],
      "metadata": {
        "colab": {
          "base_uri": "https://localhost:8080/"
        },
        "id": "hLiMQzuYhySV",
        "outputId": "fa947340-5d7b-46e9-ba2e-bf68c2fa228a"
      },
      "execution_count": 4,
      "outputs": [
        {
          "output_type": "stream",
          "name": "stdout",
          "text": [
            "Enter your name: Antra\n",
            "Enter your age: 21\n",
            "Name: Antra\n",
            "Age: 21\n"
          ]
        }
      ]
    },
    {
      "cell_type": "code",
      "source": [
        "# Q3. Write code to print all the pre-defined keywords in Python using the keyword library.\n",
        "\n",
        "import keyword\n",
        "print(keyword.kwlist)"
      ],
      "metadata": {
        "colab": {
          "base_uri": "https://localhost:8080/"
        },
        "id": "IGxOUWDFh_NC",
        "outputId": "405f74b5-49c1-4070-bea0-fccff8e4ab29"
      },
      "execution_count": 6,
      "outputs": [
        {
          "output_type": "stream",
          "name": "stdout",
          "text": [
            "['False', 'None', 'True', 'and', 'as', 'assert', 'async', 'await', 'break', 'class', 'continue', 'def', 'del', 'elif', 'else', 'except', 'finally', 'for', 'from', 'global', 'if', 'import', 'in', 'is', 'lambda', 'nonlocal', 'not', 'or', 'pass', 'raise', 'return', 'try', 'while', 'with', 'yield']\n"
          ]
        }
      ]
    },
    {
      "cell_type": "code",
      "source": [
        "# Q4. Write a program that checks if a given word is a Python keyword\n",
        "\n",
        "\n",
        "import keyword\n",
        "word = input(\"Enter a word: \")\n",
        "if keyword.iskeyword(word):\n",
        "    print(f\"{word} is a Python keyword.\")\n",
        "else:\n",
        "    print(f\"{word} is not a Python keyword.\")"
      ],
      "metadata": {
        "colab": {
          "base_uri": "https://localhost:8080/"
        },
        "id": "ovlrPp64icY-",
        "outputId": "a5f68b41-4d90-474c-daa2-15b86bec1286"
      },
      "execution_count": 7,
      "outputs": [
        {
          "output_type": "stream",
          "name": "stdout",
          "text": [
            "Enter a word: and\n",
            "and is a Python keyword.\n"
          ]
        }
      ]
    },
    {
      "cell_type": "code",
      "source": [
        "# Q5. Create a list and tuple in Python, and demonstrate how attempting to change an element works differently for each.\n",
        "\n",
        "# Creating a list\n",
        "my_list = [1, 2, 3, 4, 5]\n",
        "\n",
        "# Creating a tuple\n",
        "my_tuple = (1, 2, 3, 4, 5)"
      ],
      "metadata": {
        "id": "snKduP8wissG"
      },
      "execution_count": 8,
      "outputs": []
    },
    {
      "cell_type": "code",
      "source": [
        "# Modifying the second element of the list\n",
        "my_list[1] = 20\n",
        "print(my_list)"
      ],
      "metadata": {
        "colab": {
          "base_uri": "https://localhost:8080/"
        },
        "id": "GoWIvTDNi68c",
        "outputId": "13e4d48b-fb78-41b0-9170-e753cab2008d"
      },
      "execution_count": 9,
      "outputs": [
        {
          "output_type": "stream",
          "name": "stdout",
          "text": [
            "[1, 20, 3, 4, 5]\n"
          ]
        }
      ]
    },
    {
      "cell_type": "code",
      "source": [
        "# Attempting to modify the second element of the tuple\n",
        "try:\n",
        "    my_tuple[1] = 20\n",
        "except TypeError as e:\n",
        "    print(e)"
      ],
      "metadata": {
        "colab": {
          "base_uri": "https://localhost:8080/"
        },
        "id": "gb_kZWAli_Ag",
        "outputId": "ac67fc0d-b6cd-4407-f019-7224312246d9"
      },
      "execution_count": 10,
      "outputs": [
        {
          "output_type": "stream",
          "name": "stdout",
          "text": [
            "'tuple' object does not support item assignment\n"
          ]
        }
      ]
    },
    {
      "cell_type": "code",
      "source": [
        "# Q6. Write a function to demonstrate the behavior of mutable and immutable arguments.\n",
        "\n",
        "# Mutable Argument\n",
        "def modify_list(my_list):\n",
        "    my_list.append(100)\n",
        "    print(\"Inside function:\", my_list)\n",
        "\n",
        "# Original list\n",
        "original_list = [1, 2, 3]\n",
        "modify_list(original_list)\n",
        "print(\"Outside function:\", original_list)\n"
      ],
      "metadata": {
        "colab": {
          "base_uri": "https://localhost:8080/"
        },
        "id": "AqJeb_XljX6X",
        "outputId": "186fd8a6-4c99-4e10-9798-092d87c1331d"
      },
      "execution_count": 12,
      "outputs": [
        {
          "output_type": "stream",
          "name": "stdout",
          "text": [
            "Inside function: [1, 2, 3, 100]\n",
            "Outside function: [1, 2, 3, 100]\n"
          ]
        }
      ]
    },
    {
      "cell_type": "code",
      "source": [
        "# Immutable Argument\n",
        "def modify_integer(my_int):\n",
        "    my_int += 100\n",
        "    print(\"Inside function:\", my_int)\n",
        "\n",
        "# Original integer\n",
        "original_int = 10\n",
        "modify_integer(original_int)\n",
        "print(\"Outside function:\", original_int)\n"
      ],
      "metadata": {
        "colab": {
          "base_uri": "https://localhost:8080/"
        },
        "id": "zhjMG7JVjqaT",
        "outputId": "e5dff289-0184-4fa7-e0d7-7f046d885508"
      },
      "execution_count": 13,
      "outputs": [
        {
          "output_type": "stream",
          "name": "stdout",
          "text": [
            "Inside function: 110\n",
            "Outside function: 10\n"
          ]
        }
      ]
    },
    {
      "cell_type": "code",
      "source": [
        "# Q7. Write a program to demonstrate the use of logical operators.\n",
        "\n",
        "# Variables for demonstration\n",
        "a = True\n",
        "b = False\n",
        "\n",
        "# Using 'and' operator\n",
        "print(\"Logical AND:\")\n",
        "print(f\"{a} and {b} -> {a and b}\")  # Both must be True\n",
        "print(f\"{a} and {a} -> {a and a}\")"
      ],
      "metadata": {
        "colab": {
          "base_uri": "https://localhost:8080/"
        },
        "id": "Vd8VAPW7jtfc",
        "outputId": "b94205b8-0165-42bb-8bba-f6c9c6ef798c"
      },
      "execution_count": 14,
      "outputs": [
        {
          "output_type": "stream",
          "name": "stdout",
          "text": [
            "Logical AND:\n",
            "True and False -> False\n",
            "True and True -> True\n"
          ]
        }
      ]
    },
    {
      "cell_type": "code",
      "source": [
        "# Using 'or' operator\n",
        "print(\"\\nLogical OR:\")\n",
        "print(f\"{a} or {b} -> {a or b}\")    # At least one must be True\n",
        "print(f\"{b} or {b} -> {b or b}\")"
      ],
      "metadata": {
        "colab": {
          "base_uri": "https://localhost:8080/"
        },
        "id": "edXtsJPukT8Q",
        "outputId": "956528bd-bfb0-424e-81e0-5e0a380c8ca5"
      },
      "execution_count": 15,
      "outputs": [
        {
          "output_type": "stream",
          "name": "stdout",
          "text": [
            "\n",
            "Logical OR:\n",
            "True or False -> True\n",
            "False or False -> False\n"
          ]
        }
      ]
    },
    {
      "cell_type": "code",
      "source": [
        "# Using 'not' operator\n",
        "print(\"\\nLogical NOT:\")\n",
        "print(f\"not {a} -> {not a}\")        # Negates the value\n",
        "print(f\"not {b} -> {not b}\")"
      ],
      "metadata": {
        "colab": {
          "base_uri": "https://localhost:8080/"
        },
        "id": "3xmMKWIfkWmR",
        "outputId": "371b59a6-dc7c-4fb1-c7d2-76a881442c5a"
      },
      "execution_count": 16,
      "outputs": [
        {
          "output_type": "stream",
          "name": "stdout",
          "text": [
            "\n",
            "Logical NOT:\n",
            "not True -> False\n",
            "not False -> True\n"
          ]
        }
      ]
    },
    {
      "cell_type": "code",
      "source": [
        "# Q8. Write a Python program to convert user input from string to integer, float, and boolean types.\n",
        "\n",
        "# Input a value from the user\n",
        "user_input = input(\"Enter a value: \")\n",
        "\n",
        "# Convert the input to integer\n",
        "try:\n",
        "    int_value = int(user_input)\n",
        "    print(f\"Integer value: {int_value}\")\n",
        "except ValueError:\n",
        "    print(f\"'{user_input}' cannot be converted to an integer.\")"
      ],
      "metadata": {
        "colab": {
          "base_uri": "https://localhost:8080/"
        },
        "id": "HT0vwvpekYl-",
        "outputId": "38b3a5a4-cf95-4661-a831-e825c25ed217"
      },
      "execution_count": 22,
      "outputs": [
        {
          "output_type": "stream",
          "name": "stdout",
          "text": [
            "Enter a value: 42\n",
            "Integer value: 42\n"
          ]
        }
      ]
    },
    {
      "cell_type": "code",
      "source": [
        "# Convert the input to float\n",
        "try:\n",
        "    float_value = float(user_input)\n",
        "    print(f\"Float value: {float_value}\")\n",
        "except ValueError:\n",
        "    print(f\"'{user_input}' cannot be converted to a float.\")"
      ],
      "metadata": {
        "colab": {
          "base_uri": "https://localhost:8080/"
        },
        "id": "yqmOB_F1k3LD",
        "outputId": "223b1ac7-cd63-458f-d80d-029d64e86b29"
      },
      "execution_count": 23,
      "outputs": [
        {
          "output_type": "stream",
          "name": "stdout",
          "text": [
            "Float value: 42.0\n"
          ]
        }
      ]
    },
    {
      "cell_type": "code",
      "source": [
        "# Convert the input to boolean\n",
        "bool_value = bool(user_input.strip())\n",
        "print(f\"Boolean value: {bool_value}\")"
      ],
      "metadata": {
        "colab": {
          "base_uri": "https://localhost:8080/"
        },
        "id": "y2R0C-SVk-6V",
        "outputId": "fa9906ce-9d9b-49d9-f26c-6a2ae1119423"
      },
      "execution_count": 24,
      "outputs": [
        {
          "output_type": "stream",
          "name": "stdout",
          "text": [
            "Boolean value: True\n"
          ]
        }
      ]
    },
    {
      "cell_type": "code",
      "source": [
        "# Q9. Write code to demonstrate type casting with list elements.\n",
        "\n",
        "# Original list with mixed types as strings\n",
        "original_list = [\"1\", \"2.5\", \"True\", \"hello\"]\n",
        "\n",
        "# Empty lists to store converted values\n",
        "int_list = []\n",
        "float_list = []\n",
        "bool_list = []\n",
        "str_list = []\n",
        "\n",
        "# Iterate over the elements in the original list\n",
        "for item in original_list:\n",
        "    # Convert to integer if possible\n",
        "    if item.isdigit():\n",
        "        int_list.append(int(item))\n",
        "\n",
        "    # Convert to float if possible\n",
        "    try:\n",
        "        float_list.append(float(item))\n",
        "    except ValueError:\n",
        "        pass\n",
        "\n",
        "    # Convert to boolean\n",
        "    bool_list.append(bool(item.strip()))\n",
        "\n",
        "    # Convert to string\n",
        "    str_list.append(str(item))\n",
        "\n",
        "# Display results\n",
        "print(\"Original List:\", original_list)\n",
        "print(\"Converted to Integers:\", int_list)\n",
        "print(\"Converted to Floats:\", float_list)\n",
        "print(\"Converted to Booleans:\", bool_list)\n",
        "print(\"Converted to Strings:\", str_list)"
      ],
      "metadata": {
        "colab": {
          "base_uri": "https://localhost:8080/"
        },
        "id": "mB0JFRxNlCvk",
        "outputId": "2182aa5e-21f6-44d8-fbd2-94ea90f25fe9"
      },
      "execution_count": 25,
      "outputs": [
        {
          "output_type": "stream",
          "name": "stdout",
          "text": [
            "Original List: ['1', '2.5', 'True', 'hello']\n",
            "Converted to Integers: [1]\n",
            "Converted to Floats: [1.0, 2.5]\n",
            "Converted to Booleans: [True, True, True, True]\n",
            "Converted to Strings: ['1', '2.5', 'True', 'hello']\n"
          ]
        }
      ]
    },
    {
      "cell_type": "code",
      "source": [
        "# Q10. Write a program that checks if a number is positive, negative, or zero.\n",
        "\n",
        "# Input a number from the user\n",
        "number = float(input(\"Enter a number: \"))\n",
        "\n",
        "# Check if the number is positive, negative, or zero\n",
        "if number > 0:\n",
        "    print(f\"The number {number} is positive.\")\n",
        "elif number < 0:\n",
        "    print(f\"The number {number} is negative.\")\n",
        "else:\n",
        "    print(f\"The number {number} is zero.\")"
      ],
      "metadata": {
        "colab": {
          "base_uri": "https://localhost:8080/"
        },
        "id": "pzJrJL6_ltuT",
        "outputId": "01306b52-1ad8-4c12-e3ff-1cf607d561b3"
      },
      "execution_count": 26,
      "outputs": [
        {
          "output_type": "stream",
          "name": "stdout",
          "text": [
            "Enter a number: 24\n",
            "The number 24.0 is positive.\n"
          ]
        }
      ]
    },
    {
      "cell_type": "code",
      "source": [
        "# Q11. Write a for loop to print numbers from 1 to 10.\n",
        "\n",
        "# Using a for loop to print numbers from 1 to 10\n",
        "for i in range(1, 11):\n",
        "    print(i)\n"
      ],
      "metadata": {
        "colab": {
          "base_uri": "https://localhost:8080/"
        },
        "id": "nHT9Gk8UmDnN",
        "outputId": "e38d9008-3b45-401e-a6ad-46cfa8679158"
      },
      "execution_count": 27,
      "outputs": [
        {
          "output_type": "stream",
          "name": "stdout",
          "text": [
            "1\n",
            "2\n",
            "3\n",
            "4\n",
            "5\n",
            "6\n",
            "7\n",
            "8\n",
            "9\n",
            "10\n"
          ]
        }
      ]
    },
    {
      "cell_type": "code",
      "source": [
        "# Q12. Write a Python program to find the sum of all even numbers between 1 and 50.\n",
        "\n",
        "# Initialize the sum variable\n",
        "sum_of_evens = 0\n",
        "\n",
        "# Loop through numbers from 1 to 50\n",
        "for number in range(1, 51):\n",
        "    # Check if the number is even\n",
        "    if number % 2 == 0:\n",
        "        sum_of_evens += number\n",
        "\n",
        "# Print the result\n",
        "print(\"The sum of all even numbers between 1 and 50 is:\", sum_of_evens)"
      ],
      "metadata": {
        "colab": {
          "base_uri": "https://localhost:8080/"
        },
        "id": "tbOgxmc9my31",
        "outputId": "f9d4ac19-2e07-4b1d-c620-8bfdeb9c676a"
      },
      "execution_count": 28,
      "outputs": [
        {
          "output_type": "stream",
          "name": "stdout",
          "text": [
            "The sum of all even numbers between 1 and 50 is: 650\n"
          ]
        }
      ]
    },
    {
      "cell_type": "code",
      "source": [
        "# Q13. Write a program to reverse a string using a while loop.\n",
        "\n",
        "# Input string from the user\n",
        "input_string = input(\"Enter a string: \")\n",
        "\n",
        "# Initialize an empty string to store the reversed string\n",
        "reversed_string = \"\"\n",
        "\n",
        "# Initialize a variable to track the index of the last character in the input string\n",
        "index = len(input_string) - 1\n",
        "\n",
        "# Use a while loop to reverse the string\n",
        "while index >= 0:\n",
        "    reversed_string += input_string[index]\n",
        "    index -= 1\n",
        "\n",
        "# Print the reversed string\n",
        "print(\"Reversed string:\", reversed_string)"
      ],
      "metadata": {
        "colab": {
          "base_uri": "https://localhost:8080/"
        },
        "id": "vamDCa7ym_Ic",
        "outputId": "26698e87-ad55-4821-85ef-6725ab363d37"
      },
      "execution_count": 29,
      "outputs": [
        {
          "output_type": "stream",
          "name": "stdout",
          "text": [
            "Enter a string: Antra\n",
            "Reversed string: artnA\n"
          ]
        }
      ]
    },
    {
      "cell_type": "code",
      "source": [
        "# Q14. Write a Python program to calculate the factorial of a number provided by the user using a while loop.\n",
        "\n",
        "# Input a number from the user\n",
        "number = int(input(\"Enter a number to calculate its factorial: \"))\n",
        "\n",
        "# Initialize the factorial result as 1 (since 0! = 1)\n",
        "factorial = 1\n",
        "\n",
        "# Check if the number is negative\n",
        "if number < 0:\n",
        "    print(\"Factorial is not defined for negative numbers.\")\n",
        "else:\n",
        "    # Use a while loop to calculate the factorial\n",
        "    while number > 1:\n",
        "        factorial *= number\n",
        "        number -= 1\n",
        "\n",
        "    # Print the result\n",
        "    print(\"The factorial is:\", factorial)"
      ],
      "metadata": {
        "colab": {
          "base_uri": "https://localhost:8080/"
        },
        "id": "Y7Vmn10nnJKX",
        "outputId": "db806d82-380b-4752-d885-947d0cfa2127"
      },
      "execution_count": 31,
      "outputs": [
        {
          "output_type": "stream",
          "name": "stdout",
          "text": [
            "Enter a number to calculate its factorial: 123\n",
            "The factorial is: 12146304367025329675766243241881295855454217088483382315328918161829235892362167668831156960612640202170735835221294047782591091570411651472186029519906261646730733907419814952960000000000000000000000000000\n"
          ]
        }
      ]
    }
  ]
}